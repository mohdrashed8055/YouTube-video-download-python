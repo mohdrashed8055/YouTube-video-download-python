{
 "cells": [
  {
   "cell_type": "code",
   "execution_count": 1,
   "metadata": {},
   "outputs": [],
   "source": [
    "# First install package for youtube; \"pip install pytube3\"\n",
    "\n",
    "#importing the module \n",
    "from pytube import YouTube"
   ]
  },
  {
   "cell_type": "code",
   "execution_count": 6,
   "metadata": {},
   "outputs": [
    {
     "name": "stdout",
     "output_type": "stream",
     "text": [
      "TENET - Official Trailer\n"
     ]
    }
   ],
   "source": [
    "yt = YouTube(\"https://www.youtube.com/watch?v=LdOM0x0XDMo\")\n",
    "print(yt.title)"
   ]
  },
  {
   "cell_type": "code",
   "execution_count": 7,
   "metadata": {},
   "outputs": [
    {
     "data": {
      "text/plain": [
       "'F:\\\\HOLLYWOOD\\\\TENET - Official Trailer.mp4'"
      ]
     },
     "execution_count": 7,
     "metadata": {},
     "output_type": "execute_result"
    }
   ],
   "source": [
    "stream = yt.streams.first()\n",
    "stream.download(\"F:\\HOLLYWOOD\")"
   ]
  },
  {
   "cell_type": "code",
   "execution_count": null,
   "metadata": {},
   "outputs": [],
   "source": [
    "#importing the module \n",
    "from pytube import YouTube \n",
    "\n",
    "yt = YouTube(\"Copy YouTube Link Here\")\n",
    "print(yt.title)\n",
    "\n",
    "stream = yt.streams.first()\n",
    "stream.download(\"Select Download Path\")"
   ]
  },
  {
   "cell_type": "code",
   "execution_count": null,
   "metadata": {},
   "outputs": [],
   "source": []
  }
 ],
 "metadata": {
  "kernelspec": {
   "display_name": "Python 3",
   "language": "python",
   "name": "python3"
  },
  "language_info": {
   "codemirror_mode": {
    "name": "ipython",
    "version": 3
   },
   "file_extension": ".py",
   "mimetype": "text/x-python",
   "name": "python",
   "nbconvert_exporter": "python",
   "pygments_lexer": "ipython3",
   "version": "3.7.6"
  }
 },
 "nbformat": 4,
 "nbformat_minor": 4
}
